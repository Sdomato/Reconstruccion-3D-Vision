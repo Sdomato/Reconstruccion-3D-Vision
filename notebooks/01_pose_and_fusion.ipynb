{
 "cells": [
  {
   "cell_type": "markdown",
   "id": "3bab8155",
   "metadata": {},
   "source": [
    "# TP2 — 01_pose_and_fusion.ipynb\n",
    "\n",
    "En este notebook detectamos el patrón (checkerboard), resolvemos la **pose** con `solvePnP` y dejamos el esqueleto para **acumular nubes** en un marco común.\n"
   ]
  },
  {
   "cell_type": "code",
   "execution_count": null,
   "id": "b2b0c577",
   "metadata": {},
   "outputs": [],
   "source": []
  }
 ],
 "metadata": {
  "kernelspec": {
   "display_name": "myenv",
   "language": "python",
   "name": "python3"
  },
  "language_info": {
   "codemirror_mode": {
    "name": "ipython",
    "version": 3
   },
   "file_extension": ".py",
   "mimetype": "text/x-python",
   "name": "python",
   "nbconvert_exporter": "python",
   "pygments_lexer": "ipython3",
   "version": "3.12.4"
  }
 },
 "nbformat": 4,
 "nbformat_minor": 5
}
